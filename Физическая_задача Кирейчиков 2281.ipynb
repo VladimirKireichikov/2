{
  "nbformat": 4,
  "nbformat_minor": 0,
  "metadata": {
    "colab": {
      "name": "Физическая задача.ipynb",
      "provenance": [],
      "authorship_tag": "ABX9TyMcCyD5mOF+mvOdehej55j1",
      "include_colab_link": true
    },
    "kernelspec": {
      "name": "python3",
      "display_name": "Python 3"
    },
    "language_info": {
      "name": "python"
    }
  },
  "cells": [
    {
      "cell_type": "markdown",
      "metadata": {
        "id": "view-in-github",
        "colab_type": "text"
      },
      "source": [
        "<a href=\"https://colab.research.google.com/github/VladimirKireichikov/2/blob/main/%D0%A4%D0%B8%D0%B7%D0%B8%D1%87%D0%B5%D1%81%D0%BA%D0%B0%D1%8F_%D0%B7%D0%B0%D0%B4%D0%B0%D1%87%D0%B0%20%D0%9A%D0%B8%D1%80%D0%B5%D0%B9%D1%87%D0%B8%D0%BA%D0%BE%D0%B2%202281.ipynb\" target=\"_parent\"><img src=\"https://colab.research.google.com/assets/colab-badge.svg\" alt=\"Open In Colab\"/></a>"
      ]
    },
    {
      "cell_type": "code",
      "metadata": {
        "id": "u_TisNQMFSpe"
      },
      "source": [
        "from sympy import *"
      ],
      "execution_count": null,
      "outputs": []
    },
    {
      "cell_type": "code",
      "metadata": {
        "id": "IIc3yH0dFj8t"
      },
      "source": [
        "h,h2,v = symbols(\"h h2 v\")\n",
        "v0 = 20\n",
        "h0 = 40\n",
        "g = 10\n",
        "t = 2"
      ],
      "execution_count": null,
      "outputs": []
    },
    {
      "cell_type": "code",
      "metadata": {
        "colab": {
          "base_uri": "https://localhost:8080/"
        },
        "id": "UtruuNWaFpBx",
        "outputId": "e10e32ed-b2fb-4360-a032-682ba37e7d16"
      },
      "source": [
        "h2 = v0*t + (g*t**2)/2\n",
        "h2"
      ],
      "execution_count": null,
      "outputs": [
        {
          "output_type": "execute_result",
          "data": {
            "text/plain": [
              "60.0"
            ]
          },
          "metadata": {},
          "execution_count": 13
        }
      ]
    },
    {
      "cell_type": "code",
      "metadata": {
        "colab": {
          "base_uri": "https://localhost:8080/"
        },
        "id": "jUjA_qP5GV77",
        "outputId": "d0cb8e7c-ae2e-49aa-aa2a-e549f9c5c12a"
      },
      "source": [
        "h = h0 + h2\n",
        "h"
      ],
      "execution_count": null,
      "outputs": [
        {
          "output_type": "execute_result",
          "data": {
            "text/plain": [
              "100.0"
            ]
          },
          "metadata": {},
          "execution_count": 14
        }
      ]
    }
  ]
}